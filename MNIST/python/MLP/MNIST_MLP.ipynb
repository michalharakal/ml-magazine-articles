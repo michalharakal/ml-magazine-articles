{
  "nbformat": 4,
  "nbformat_minor": 0,
  "metadata": {
    "colab": {
      "provenance": []
    },
    "kernelspec": {
      "name": "python3",
      "display_name": "Python 3"
    },
    "language_info": {
      "name": "python"
    }
  },
  "cells": [
    {
      "cell_type": "markdown",
      "source": [
        "## Define dataset"
      ],
      "metadata": {
        "id": "Sxdf3In9ZOkU"
      }
    },
    {
      "cell_type": "markdown",
      "source": [
        "## Imports"
      ],
      "metadata": {
        "id": "ZEAubwGtSalz"
      }
    },
    {
      "cell_type": "code",
      "source": [
        "!pip install gguf\n",
        "!pip install safetensors"
      ],
      "metadata": {
        "id": "65LXlNP1ChUq"
      },
      "execution_count": null,
      "outputs": []
    },
    {
      "cell_type": "code",
      "source": [
        "import torch\n",
        "import torch.nn as nn\n",
        "import torch.optim as optim\n",
        "from torchvision import datasets, transforms\n",
        "from torch.utils.data import DataLoader\n",
        "\n",
        "from gguf import GGUFWriter\n",
        "\n",
        "from safetensors.torch import save_file, load_file\n",
        "import torch\n",
        "\n",
        "from collections import OrderedDict\n",
        "\n",
        "import matplotlib.pyplot as plt"
      ],
      "metadata": {
        "id": "P9EvWJKWDPjE"
      },
      "execution_count": null,
      "outputs": []
    },
    {
      "cell_type": "code",
      "source": [
        "# Define the PyTorch model\n",
        "class MNIST_MLP_Named(nn.Module):\n",
        "    def __init__(self):\n",
        "        super(MNIST_MLP_Named, self).__init__()\n",
        "        self.model = nn.Sequential(\n",
        "          OrderedDict([\n",
        "                (\"flatten\",    nn.Flatten()),\n",
        "                (\"hidden1\",   nn.Linear(28 * 28, 128)),\n",
        "                (\"relu1\",      nn.ReLU()),\n",
        "                (\"dropout1\",  nn.Dropout(0.2)),\n",
        "                (\"output\",     nn.Linear(128, 10))\n",
        "            ])\n",
        "        )\n",
        "\n",
        "    def forward(self, x):\n",
        "        return self.model(x)\n",
        "\n"
      ],
      "metadata": {
        "id": "Y6MFWqD_pasl"
      },
      "execution_count": null,
      "outputs": []
    },
    {
      "cell_type": "markdown",
      "source": [
        "## Prepara dataset"
      ],
      "metadata": {
        "id": "6yc1E6tTZGxY"
      }
    },
    {
      "cell_type": "code",
      "source": [
        "# Prepare dataset and DataLoader\n",
        "transform = transforms.Compose([\n",
        "    transforms.ToTensor(),\n",
        "    transforms.Normalize((0.1307,), (0.3081,))\n",
        "])\n",
        "\n",
        "train_dataset = datasets.MNIST(root='./data', train=True, download=True, transform=transform)\n",
        "train_loader = DataLoader(train_dataset, batch_size=64, shuffle=True)\n",
        "\n",
        "test_dataset = datasets.MNIST(root='./data', train=False, download=True, transform=transform)\n",
        "test_loader = DataLoader(test_dataset, batch_size=1000, shuffle=False)\n"
      ],
      "metadata": {
        "id": "WHNeRwTyZGNX"
      },
      "execution_count": null,
      "outputs": []
    },
    {
      "cell_type": "markdown",
      "source": [
        "## Training setup"
      ],
      "metadata": {
        "id": "TEXNpDErZYIr"
      }
    },
    {
      "cell_type": "code",
      "source": [
        "# Training setup\n",
        "device = torch.device('cuda' if torch.cuda.is_available() else 'cpu')\n",
        "model = MNIST_MLP_Named().to(device)\n",
        "criterion = nn.CrossEntropyLoss()\n",
        "optimizer = optim.Adam(model.parameters(), lr=0.001)\n"
      ],
      "metadata": {
        "id": "01jEG0GKZXit"
      },
      "execution_count": null,
      "outputs": []
    },
    {
      "cell_type": "markdown",
      "source": [
        "### Train"
      ],
      "metadata": {
        "id": "lnWETUGOY7i6"
      }
    },
    {
      "cell_type": "code",
      "source": [
        "# Training loop with evaluation\n",
        "num_epochs = 5\n",
        "train_losses, test_losses = [], []\n",
        "train_accuracies, test_accuracies = [], []\n",
        "\n",
        "for epoch in range(num_epochs):\n",
        "    model.train()\n",
        "    total_loss, correct = 0, 0\n",
        "    for data, target in train_loader:\n",
        "        data, target = data.to(device), target.to(device)\n",
        "        optimizer.zero_grad()\n",
        "        output = model(data)\n",
        "        loss = criterion(output, target)\n",
        "        loss.backward()\n",
        "        optimizer.step()\n",
        "        total_loss += loss.item()\n",
        "        pred = output.argmax(dim=1)\n",
        "        correct += pred.eq(target).sum().item()\n",
        "\n",
        "    avg_loss = total_loss / len(train_loader)\n",
        "    train_accuracy = correct / len(train_loader.dataset)\n",
        "    train_losses.append(avg_loss)\n",
        "    train_accuracies.append(train_accuracy)\n",
        "\n",
        "    model.eval()\n",
        "    test_loss, correct = 0, 0\n",
        "    with torch.no_grad():\n",
        "        for data, target in test_loader:\n",
        "            data, target = data.to(device), target.to(device)\n",
        "            output = model(data)\n",
        "            test_loss += criterion(output, target).item()\n",
        "            pred = output.argmax(dim=1)\n",
        "            correct += pred.eq(target).sum().item()\n",
        "\n",
        "    test_loss /= len(test_loader)\n",
        "    test_accuracy = correct / len(test_loader.dataset)\n",
        "    test_losses.append(test_loss)\n",
        "    test_accuracies.append(test_accuracy)\n",
        "\n",
        "    print(f\"Epoch [{epoch+1}/{num_epochs}], Train Loss: {avg_loss:.4f}, Train Acc: {train_accuracy:.4f}, Test Loss: {test_loss:.4f}, Test Acc: {test_accuracy:.4f}\")\n"
      ],
      "metadata": {
        "id": "-it9Yn8yY5Gr"
      },
      "execution_count": null,
      "outputs": []
    },
    {
      "cell_type": "markdown",
      "source": [
        "## Plot"
      ],
      "metadata": {
        "id": "evPDzLukZboW"
      }
    },
    {
      "cell_type": "code",
      "source": [
        "# Plotting the results\n",
        "def plot_resuls(train_losses, test_losses, train_accuracies, test_accuracies):\n",
        "  plt.figure(figsize=(10, 5))\n",
        "  fig, axs = plt.subplots(2, 1, figsize=(10, 8))\n",
        "\n",
        "  axs[0].plot(range(1, num_epochs + 1), train_losses, label='Train Loss')\n",
        "  axs[0].plot(range(1, num_epochs + 1), test_losses, label='Test Loss')\n",
        "  axs[0].set_xlabel('Epoch')\n",
        "  axs[0].set_ylabel('Loss')\n",
        "  axs[0].set_title('Loss over Epochs')\n",
        "  axs[0].legend()\n",
        "\n",
        "  axs[1].plot(range(1, num_epochs + 1), train_accuracies, label='Train Accuracy')\n",
        "  axs[1].plot(range(1, num_epochs + 1), test_accuracies, label='Test Accuracy')\n",
        "  axs[1].set_xlabel('Epoch')\n",
        "  axs[1].set_ylabel('Accuracy')\n",
        "  axs[1].set_title('Accuracy over Epochs')\n",
        "  axs[1].legend()\n",
        "\n",
        "  plt.tight_layout()\n",
        "  plt.show()\n"
      ],
      "metadata": {
        "id": "kfhehk6lYiMm"
      },
      "execution_count": null,
      "outputs": []
    },
    {
      "cell_type": "markdown",
      "source": [
        "## GGUF Export"
      ],
      "metadata": {
        "id": "LnJLhbxRZjXk"
      }
    },
    {
      "cell_type": "code",
      "source": [
        "def export_to_gguf(model, filename):\n",
        "  writer = GGUFWriter(filename, \"generic\")\n",
        "  for name, param in model.named_parameters():\n",
        "    writer.add_tensor(name, param.detach().numpy())\n",
        "\n",
        "  writer.write_header_to_file()\n",
        "  writer.write_kv_data_to_file()\n",
        "  writer.write_tensors_to_file()\n",
        "  writer.close()\n",
        "\n",
        "  print(f\"Model saved as {filename}\")\n"
      ],
      "metadata": {
        "id": "q10elc5PYeQx"
      },
      "execution_count": null,
      "outputs": []
    },
    {
      "cell_type": "markdown",
      "source": [
        "### Safetensors export"
      ],
      "metadata": {
        "id": "in2Wkb5UzQhD"
      }
    },
    {
      "cell_type": "code",
      "source": [
        "def save_safetensors(model, filename):\n",
        "  tensors = {}\n",
        "  for name, param in model.named_parameters():\n",
        "    tensors[name] = param.detach()\n",
        "\n",
        "  save_file(tensors, filename)\n",
        "  print(f\"Model saved as {filename}\")\n",
        "\n",
        "tensors = {}\n",
        "for name, param in model.named_parameters():\n",
        "  tensors[name] = param.detach()\n",
        "\n",
        "save_file(tensors, \"./mnist_mlp.safetensors\")\n",
        "\n",
        "\n",
        "# Now loading\n",
        "loaded = load_file(\"./mnist_mlp.safetensors\")"
      ],
      "metadata": {
        "id": "eniDNbD3ajqH"
      },
      "execution_count": null,
      "outputs": []
    },
    {
      "cell_type": "code",
      "source": [
        "# prompt: Add code for inference with trainede model with shiwling of random loaded picture\n",
        "\n",
        "import matplotlib.pyplot as plt\n",
        "import random\n",
        "from torchvision.utils import make_grid\n",
        "\n",
        "# Set the model to evaluation mode\n",
        "model.eval()\n",
        "\n",
        "# Get a random index from the test dataset\n",
        "random_index = random.randint(0, len(test_dataset) - 1)\n",
        "\n",
        "# Load the image and its label\n",
        "image, label = test_dataset[random_index]\n",
        "\n",
        "# Add a batch dimension for the model\n",
        "image_batch = image.unsqueeze(0).to(device)\n",
        "\n",
        "# Perform inference\n",
        "with torch.no_grad():\n",
        "    output = model(image_batch)\n",
        "    predicted_class = output.argmax(dim=1).item()\n",
        "\n",
        "# Denormalize the image for display\n",
        "denormalized_image = image * 0.3081 + 0.1307\n",
        "\n",
        "# Display the image and the prediction\n",
        "plt.imshow(denormalized_image.squeeze().cpu().numpy(), cmap='gray')\n",
        "plt.title(f\"True Label: {label}, Predicted: {predicted_class}\")\n",
        "plt.axis('off')\n",
        "plt.show()"
      ],
      "metadata": {
        "id": "IojCLBQuALGy"
      },
      "execution_count": null,
      "outputs": []
    }
  ]
}