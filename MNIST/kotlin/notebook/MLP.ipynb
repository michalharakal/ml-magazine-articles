{
 "cells": [
  {
   "metadata": {
    "ExecuteTime": {
     "end_time": "2025-06-21T12:55:40.047719Z",
     "start_time": "2025-06-21T12:55:39.917616Z"
    }
   },
   "cell_type": "code",
   "outputs": [],
   "execution_count": 1,
   "source": [
    "val githubActor  = System.getenv(\"GITHUB_ACTOR\")\n",
    "val githubToken = System.getenv(\"GITHUB_TOKEN\")"
   ]
  },
  {
   "metadata": {},
   "cell_type": "markdown",
   "source": "## MNIST with CNN"
  },
  {
   "metadata": {},
   "cell_type": "markdown",
   "source": [
    "### Setup Github Access\n",
    "For accessing the package in Github, we need to set up the Github access token and actor. This is done by setting the `GITHUB_ACTOR` and `GITHUB_TOKEN` environment variables."
   ]
  },
  {
   "metadata": {
    "ExecuteTime": {
     "end_time": "2025-06-21T12:57:57.252576Z",
     "start_time": "2025-06-21T12:57:57.188958Z"
    }
   },
   "cell_type": "code",
   "source": [
    "val githubActor  = System.getenv(\"GITHUB_ACTOR\")\n",
    "val githubToken = System.getenv(\"GITHUB_TOKEN\")"
   ],
   "outputs": [],
   "execution_count": 2
  },
  {
   "metadata": {},
   "cell_type": "markdown",
   "source": "### Setup Kotlin Jupyter Dependencies"
  },
  {
   "metadata": {
    "collapsed": true,
    "ExecuteTime": {
     "end_time": "2025-06-21T13:02:43.689479Z",
     "start_time": "2025-06-21T13:02:33.627346Z"
    }
   },
   "cell_type": "code",
   "source": [
    "USE {\n",
    "    repositories {\n",
    "        maven {\n",
    "            url = \"https://maven.pkg.github.com/sk-ai-net/skainet-jupyter\"\n",
    "            credentials {\n",
    "                username = githubActor\n",
    "                password = githubToken\n",
    "            }\n",
    "        }\n",
    "        mavenCentral()\n",
    "    }\n",
    "    dependencies {\n",
    "        implementation(\"sk.ai.net:kotlin-jupyter:0.0.7\")\n",
    "        implementation(\"org.jetbrains.kotlinx:kotlinx-coroutines-core:1.10.2\")\n",
    "        val ktorVersion = \"3.1.3\"\n",
    "        implementation(\"io.ktor:ktor-client-cio:$ktorVersion\")\n",
    "        implementation(\"io.ktor:ktor-client-core:$ktorVersion\")\n",
    "        implementation(\"io.ktor:ktor-client-content-negotiation:$ktorVersion\")\n",
    "\n",
    "    }\n",
    "}"
   ],
   "outputs": [],
   "execution_count": 6
  },
  {
   "metadata": {},
   "cell_type": "markdown",
   "source": "### Importing Libraries"
  },
  {
   "metadata": {
    "ExecuteTime": {
     "end_time": "2025-06-21T13:02:52.778095Z",
     "start_time": "2025-06-21T13:02:52.744525Z"
    }
   },
   "cell_type": "code",
   "source": [
    "// SKaiNET\n",
    "import sk.ai.net.Tensor\n",
    "import sk.ai.net.dsl.network\n",
    "import sk.ai.net.nn.activations.ReLU\n",
    "import sk.ai.net.nn.Module\n",
    "import sk.ai.net.Shape\n",
    "import sk.ai.net.impl.DoublesTensor\n",
    "\n",
    "\n",
    "// SKaiNET - MNIST\n",
    "import sk.ai.net.io.data.mnist.MNISTLoaderFactory\n",
    "import sk.ai.net.io.data.mnist.MNISTConstants\n",
    "import sk.ai.net.io.data.mnist.MNISTImage\n",
    "import sk.ai.net.io.data.mnist.MNISTDataset\n",
    "\n",
    "\n",
    "// Kotlin\n",
    "import kotlin.random.Random\n",
    "import kotlinx.coroutines.runBlocking"
   ],
   "outputs": [],
   "execution_count": 7
  },
  {
   "metadata": {},
   "cell_type": "markdown",
   "source": "### Download MNIST dataset"
  },
  {
   "metadata": {
    "ExecuteTime": {
     "end_time": "2025-06-21T13:03:50.009674Z",
     "start_time": "2025-06-21T13:03:49.909436Z"
    }
   },
   "cell_type": "code",
   "source": [
    "val (trainingData, testData) = runBlocking {\n",
    "    MNISTLoaderFactory.create().let { loader ->\n",
    "        loader.loadTrainingData() to loader.loadTestData()\n",
    "    }\n",
    "}"
   ],
   "outputs": [
    {
     "name": "stdout",
     "output_type": "stream",
     "text": [
      "Using cached file: mnist-data/train-images-idx3-ubyte\n",
      "Using cached file: mnist-data/train-labels-idx1-ubyte\n",
      "Using cached file: mnist-data/t10k-images-idx3-ubyte\n",
      "Using cached file: mnist-data/t10k-labels-idx1-ubyte\n"
     ]
    }
   ],
   "execution_count": 9
  },
  {
   "metadata": {},
   "cell_type": "code",
   "outputs": [],
   "execution_count": null,
   "source": ""
  }
 ],
 "metadata": {
  "kernelspec": {
   "display_name": "Kotlin",
   "language": "kotlin",
   "name": "kotlin"
  },
  "language_info": {
   "name": "kotlin",
   "version": "1.9.23",
   "mimetype": "text/x-kotlin",
   "file_extension": ".kt",
   "pygments_lexer": "kotlin",
   "codemirror_mode": "text/x-kotlin",
   "nbconvert_exporter": ""
  }
 },
 "nbformat": 4,
 "nbformat_minor": 0
}
