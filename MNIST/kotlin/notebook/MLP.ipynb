{
 "cells": [
  {
   "metadata": {},
   "cell_type": "markdown",
   "source": "## MNIST with CNN"
  },
  {
   "metadata": {},
   "cell_type": "markdown",
   "source": [
    "### Setup Github Access\n",
    "For accessing the package in Github, we need to set up the Github access token and actor. This is done by setting the `GITHUB_ACTOR` and `GITHUB_TOKEN` environment variables."
   ]
  },
  {
   "metadata": {},
   "cell_type": "code",
   "source": [
    "val githubActor  = System.getenv(\"GITHUB_ACTOR\")\n",
    "val githubToken = System.getenv(\"GITHUB_TOKEN\")"
   ],
   "outputs": [],
   "execution_count": null
  },
  {
   "metadata": {},
   "cell_type": "markdown",
   "source": "### Setup Kotlin Jupyter Dependencies"
  },
  {
   "metadata": {
    "collapsed": true
   },
   "cell_type": "code",
   "source": [
    "USE {\n",
    "    repositories {\n",
    "        maven {\n",
    "            url = \"https://maven.pkg.github.com/sk-ai-net/skainet-jupyter\"\n",
    "            credentials {\n",
    "                username = githubActor\n",
    "                password = githubToken\n",
    "            }\n",
    "        }\n",
    "        mavenCentral()\n",
    "    }\n",
    "    dependencies {\n",
    "        implementation(\"sk.ai.net:kotlin-jupyter:0.0.7\")\n",
    "        implementation(\"org.jetbrains.kotlinx:kotlinx-coroutines-core:1.10.2\")\n",
    "        val ktorVersion = \"3.1.3\"\n",
    "        implementation(\"io.ktor:ktor-client-cio:$ktorVersion\")\n",
    "        implementation(\"io.ktor:ktor-client-core:$ktorVersion\")\n",
    "        implementation(\"io.ktor:ktor-client-content-negotiation:$ktorVersion\")\n",
    "        implementation(\"io.ktor:ktor-client-logging:$ktorVersion\")\n",
    "    }\n",
    "}"
   ],
   "outputs": [],
   "execution_count": null
  },
  {
   "metadata": {},
   "cell_type": "markdown",
   "source": "### Importing Libraries"
  },
  {
   "metadata": {},
   "cell_type": "code",
   "source": [
    "// SKaiNET\n",
    "import sk.ai.net.Tensor\n",
    "import sk.ai.net.dsl.network\n",
    "import sk.ai.net.nn.activations.ReLU\n",
    "import sk.ai.net.nn.Module\n",
    "import sk.ai.net.Shape\n",
    "import sk.ai.net.impl.DoublesTensor\n",
    "\n",
    "\n",
    "// SKaiNET - MNIST\n",
    "import sk.ai.net.io.data.mnist.MNISTLoaderFactory\n",
    "import sk.ai.net.io.data.mnist.MNISTConstants\n",
    "import sk.ai.net.io.data.mnist.MNISTImage\n",
    "import sk.ai.net.io.data.mnist.MNISTDataset\n",
    "\n",
    "\n",
    "// Kotlin\n",
    "import kotlin.random.Random\n",
    "import kotlinx.coroutines.runBlocking"
   ],
   "outputs": [],
   "execution_count": null
  },
  {
   "metadata": {},
   "cell_type": "markdown",
   "source": "### Download MNIST dataset"
  },
  {
   "metadata": {},
   "cell_type": "code",
   "source": [
    "val (trainingData, testData) = runBlocking {\n",
    "    MNISTLoaderFactory.create().let { loader ->\n",
    "        loader.loadTrainingData() to loader.loadTestData()\n",
    "    }\n",
    "}"
   ],
   "outputs": [],
   "execution_count": null
  },
  {
   "metadata": {},
   "cell_type": "markdown",
   "source": "### CNN model"
  },
  {
   "metadata": {
    "ExecuteTime": {
     "end_time": "2025-06-21T16:54:11.373245Z",
     "start_time": "2025-06-21T16:54:11.262074Z"
    }
   },
   "cell_type": "code",
   "source": [
    "val mnistNetwork = network {\n",
    "    sequential {\n",
    "        stage(\"conv1\") {\n",
    "            conv2d {\n",
    "                outChannels = 16\n",
    "                kernelSize = 5\n",
    "                stride = 1\n",
    "                padding = 2\n",
    "            }\n",
    "            activation(\"relu\", ReLU()::forward)\n",
    "            maxPool2d {\n",
    "                kernelSize = 2\n",
    "                stride = 2\n",
    "            }\n",
    "        }\n",
    "        stage(\"conv2\") {\n",
    "            conv2d {\n",
    "                outChannels = 32\n",
    "                kernelSize = 5\n",
    "                stride = 1\n",
    "                padding = 2\n",
    "            }\n",
    "            activation(\"relu\", ReLU()::forward)\n",
    "            maxPool2d {\n",
    "                kernelSize = 2\n",
    "                stride = 2\n",
    "            }\n",
    "        }\n",
    "        stage(\"flatten\") {\n",
    "            flatten()\n",
    "        }\n",
    "        stage(\"dense\") {\n",
    "            dense {\n",
    "                units = 128\n",
    "            }\n",
    "            activation(\"relu\", ReLU()::forward)\n",
    "        }\n",
    "        stage(\"output\") {\n",
    "            dense {\n",
    "                units = 10\n",
    "            }\n",
    "            activation(\"relu\", ReLU()::forward)\n",
    "        }\n",
    "    }\n",
    "}\n"
   ],
   "outputs": [],
   "execution_count": 12
  },
  {
   "metadata": {},
   "cell_type": "code",
   "source": "mnistNetwork.summary(Shape(1,0,28,28))",
   "outputs": [],
   "execution_count": null
  },
  {
   "metadata": {},
   "cell_type": "markdown",
   "source": "### Simple MLP model"
  },
  {
   "metadata": {
    "ExecuteTime": {
     "end_time": "2025-06-21T16:54:28.372008Z",
     "start_time": "2025-06-21T16:54:28.302383Z"
    }
   },
   "cell_type": "code",
   "source": [
    "val mlp = network {\n",
    "    input(28*28)\n",
    "    dense(128) {\n",
    "        activation = ReLU()::invoke\n",
    "    }\n",
    "    dense(10)\n",
    "}"
   ],
   "outputs": [],
   "execution_count": 13
  },
  {
   "metadata": {
    "ExecuteTime": {
     "end_time": "2025-06-21T16:54:42.975012Z",
     "start_time": "2025-06-21T16:54:42.944024Z"
    }
   },
   "cell_type": "code",
   "source": "mlp.summary(Shape(28*28))",
   "outputs": [
    {
     "data": {
      "text/plain": [
       "+--------------+------------------------------------------------+---------+\n",
       "| Layer (type) | Output Shape                                   | Param # |\n",
       "+--------------+------------------------------------------------+---------+\n",
       "| linear-1     | Shape: Dimensions = [128], Size (Volume) = 128 | 100480  |\n",
       "+--------------+------------------------------------------------+---------+\n",
       "| linear-3     | Shape: Dimensions = [10], Size (Volume) = 10   | 1290    |\n",
       "+--------------+------------------------------------------------+---------+\n"
      ]
     },
     "execution_count": 15,
     "metadata": {},
     "output_type": "execute_result"
    }
   ],
   "execution_count": 15
  },
  {
   "metadata": {},
   "cell_type": "code",
   "outputs": [],
   "execution_count": null,
   "source": ""
  }
 ],
 "metadata": {
  "kernelspec": {
   "display_name": "Kotlin",
   "language": "kotlin",
   "name": "kotlin"
  },
  "language_info": {
   "name": "kotlin",
   "version": "1.9.23",
   "mimetype": "text/x-kotlin",
   "file_extension": ".kt",
   "pygments_lexer": "kotlin",
   "codemirror_mode": "text/x-kotlin",
   "nbconvert_exporter": ""
  }
 },
 "nbformat": 4,
 "nbformat_minor": 0
}
